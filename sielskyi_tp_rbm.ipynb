{
 "metadata": {
  "language_info": {
   "codemirror_mode": {
    "name": "ipython",
    "version": 3
   },
   "file_extension": ".py",
   "mimetype": "text/x-python",
   "name": "python",
   "nbconvert_exporter": "python",
   "pygments_lexer": "ipython3",
   "version": "3.7.6-final"
  },
  "orig_nbformat": 2,
  "kernelspec": {
   "name": "python3",
   "display_name": "Python 3",
   "language": "python"
  }
 },
 "nbformat": 4,
 "nbformat_minor": 2,
 "cells": [
  {
   "source": [
    "# TP &mdash; Restricted Boltzmann Machines\n",
    "\n",
    "**Auteurs:**\n",
    "\n",
    "* Javier Andres Boada Martinez\n",
    "* Kevin Alexandro Sanchez Diaz\n",
    "* Yevhenii Sielskyi"
   ],
   "cell_type": "markdown",
   "metadata": {}
  },
  {
   "source": [
    "## Chargement de données"
   ],
   "cell_type": "markdown",
   "metadata": {}
  },
  {
   "cell_type": "code",
   "execution_count": null,
   "metadata": {},
   "outputs": [],
   "source": [
    "import scipy.io\n",
    "import numpy as np\n",
    "from matplotlib import pyplot as plt\n",
    "\n",
    "alphadigits = scipy.io.loadmat('data/binaryalphadigs.mat')"
   ]
  },
  {
   "source": [
    "## Analyse Exploratoire des Données "
   ],
   "cell_type": "markdown",
   "metadata": {}
  },
  {
   "cell_type": "code",
   "execution_count": null,
   "metadata": {},
   "outputs": [],
   "source": [
    "# 10 digits and 26 handwritten letters (A-Z),\n",
    "# 39 examples of each class: \n",
    "print(f\"There are {alphadigits['dat'].shape[0]} different character classes, \"\n",
    "      f\"{alphadigits['dat'].shape[1]} examples each.\")"
   ]
  },
  {
   "cell_type": "code",
   "execution_count": null,
   "metadata": {},
   "outputs": [],
   "source": [
    "# The dimensions of each image:\n",
    "print(f\"The size of each binary image is: {alphadigits['dat'][0, 0].shape}\")"
   ]
  },
  {
   "cell_type": "code",
   "execution_count": null,
   "metadata": {},
   "outputs": [],
   "source": [
    "# Number of random classes to output:\n",
    "nb_classes_to_show = 5\n",
    "# Examples per class to show:\n",
    "nb_samples_per_class = 3\n",
    "\n",
    "# Images to show in one row:\n",
    "nb_imgs_per_row = 3\n",
    "# Number of rows:\n",
    "nb_rows = nb_samples_per_class // nb_imgs_per_row + 1 \\\n",
    "            if nb_samples_per_class % nb_imgs_per_row \\\n",
    "            else nb_samples_per_class // nb_imgs_per_row\n",
    "\n",
    "# Randomly choose some classes (their indices):\n",
    "class_indices = np.sort(np.random.choice(\n",
    "    range(alphadigits['dat'].shape[0]),\n",
    "    size=nb_classes_to_show\n",
    "))\n",
    "\n",
    "# Output some images:\n",
    "print(\"Training data examples:\")\n",
    "for class_index in class_indices:\n",
    "    print(f\"\\nClass {class_index}:\")\n",
    "\n",
    "    # Choose random samples:\n",
    "    example_indices = np.random.choice(\n",
    "        range(alphadigits['dat'].shape[1]),\n",
    "        size=nb_samples_per_class\n",
    "    )\n",
    "\n",
    "    # Output chosen class images:\n",
    "    plt.figure(figsize=(5 * nb_imgs_per_row, 6 * nb_rows))\n",
    "    for i, image in enumerate(alphadigits['dat'][class_index, example_indices], 1):\n",
    "        plt.subplot(nb_rows, nb_imgs_per_row, i)\n",
    "        plt.imshow(image)\n",
    "    plt.show()"
   ]
  },
  {
   "source": [
    "## Échantillonnage des données"
   ],
   "cell_type": "markdown",
   "metadata": {}
  },
  {
   "cell_type": "code",
   "execution_count": null,
   "metadata": {},
   "outputs": [],
   "source": [
    "def read_alpha_digits(data, indices):\n",
    "    dataset = []\n",
    "    \n",
    "    for idx in indices:\n",
    "        dataset += [image.reshape(-1) for image in data[idx]]\n",
    "\n",
    "    return np.array(dataset)"
   ]
  },
  {
   "cell_type": "code",
   "execution_count": null,
   "metadata": {},
   "outputs": [],
   "source": [
    "# Character classes to learn:\n",
    "train_classes = [10, 11]"
   ]
  },
  {
   "cell_type": "code",
   "execution_count": null,
   "metadata": {},
   "outputs": [],
   "source": [
    "dataset = read_alpha_digits(alphadigits['dat'], train_classes)"
   ]
  },
  {
   "cell_type": "code",
   "execution_count": null,
   "metadata": {},
   "outputs": [],
   "source": [
    "dataset.shape"
   ]
  },
  {
   "source": [
    "## Entraînement"
   ],
   "cell_type": "markdown",
   "metadata": {}
  },
  {
   "cell_type": "code",
   "execution_count": null,
   "metadata": {},
   "outputs": [],
   "source": [
    "from rbm import RBM"
   ]
  },
  {
   "cell_type": "code",
   "execution_count": null,
   "metadata": {},
   "outputs": [],
   "source": [
    "# Hyperparameters:\n",
    "HIDDEN_UNITS = 200\n",
    "LEARNING_RATE = 1E-2\n",
    "\n",
    "EPOCHS = 500\n",
    "BATCH_SIZE = 10"
   ]
  },
  {
   "cell_type": "code",
   "execution_count": null,
   "metadata": {},
   "outputs": [],
   "source": [
    "rbm = RBM(dataset.shape[-1], HIDDEN_UNITS)"
   ]
  },
  {
   "cell_type": "code",
   "execution_count": null,
   "metadata": {},
   "outputs": [],
   "source": [
    "rbm.train(dataset, lr=LEARNING_RATE, epochs=EPOCHS, batch_size=BATCH_SIZE)"
   ]
  },
  {
   "source": [
    "## Génération des images"
   ],
   "cell_type": "markdown",
   "metadata": {}
  },
  {
   "cell_type": "code",
   "execution_count": null,
   "metadata": {},
   "outputs": [],
   "source": [
    "# Image generation parameters:\n",
    "ITER_GIBBS = 100\n",
    "NB_IMAGES = 5"
   ]
  },
  {
   "cell_type": "code",
   "execution_count": null,
   "metadata": {},
   "outputs": [],
   "source": [
    "test_images = rbm.generate_images(iter_gibbs=ITER_GIBBS, nb_images=NB_IMAGES)"
   ]
  },
  {
   "cell_type": "code",
   "execution_count": null,
   "metadata": {},
   "outputs": [],
   "source": [
    "# Number of rows:\n",
    "nb_rows = NB_IMAGES // nb_imgs_per_row + 1 \\\n",
    "            if NB_IMAGES % nb_imgs_per_row \\\n",
    "            else NB_IMAGES // nb_imgs_per_row\n",
    "\n",
    "# Output generated images:\n",
    "print(\"Generated images:\")\n",
    "plt.figure(figsize=(5 * nb_imgs_per_row, 6 * nb_rows))\n",
    "for i, image in enumerate(test_images, 1):\n",
    "    plt.subplot(nb_rows, nb_imgs_per_row, i)\n",
    "    plt.imshow(image)\n",
    "plt.show()"
   ]
  },
  {
   "source": [
    "## Expériences"
   ],
   "cell_type": "markdown",
   "metadata": {}
  },
  {
   "source": [
    "## MNIST"
   ],
   "cell_type": "markdown",
   "metadata": {}
  },
  {
   "cell_type": "code",
   "execution_count": null,
   "metadata": {},
   "outputs": [],
   "source": [
    "# load MNIST data - handwritten digits:\n",
    "mnist = scipy.io.loadmat('data/mnist_all.mat')\n",
    "\n",
    "# MNIST image size:\n",
    "mnist_img_size = (28, 28)"
   ]
  },
  {
   "cell_type": "code",
   "execution_count": null,
   "metadata": {},
   "outputs": [],
   "source": [
    "# Merge training and test data for each class:\n",
    "for class_index in range(10):\n",
    "    mnist['train' + str(class_index)] = np.concatenate(\n",
    "        (mnist['train' + str(class_index)],\n",
    "        mnist['test' + str(class_index)]), axis=0\n",
    "    )"
   ]
  },
  {
   "cell_type": "code",
   "execution_count": null,
   "metadata": {},
   "outputs": [],
   "source": [
    "# Character classes to learn:\n",
    "train_classes = [5]\n",
    "\n",
    "# Create a MNIST training dataset:\n",
    "mnist_dataset = np.concatenate(\n",
    "    [mnist['train' + str(class_index)] for class_index in train_classes],\n",
    "    axis=0\n",
    ")\n",
    "\n",
    "# Binarise data:\n",
    "mnist_dataset = np.where(mnist_dataset > 0, 1, 0)"
   ]
  },
  {
   "cell_type": "code",
   "execution_count": null,
   "metadata": {},
   "outputs": [],
   "source": [
    "# Create another RBM:\n",
    "mnist_rbm = RBM(mnist_dataset.shape[-1], HIDDEN_UNITS)\n",
    "\n",
    "# Train RBM on the MNIST data:\n",
    "mnist_rbm.train(\n",
    "    mnist_dataset, lr=LEARNING_RATE,\n",
    "    epochs=EPOCHS, batch_size=BATCH_SIZE * 10\n",
    ")"
   ]
  },
  {
   "cell_type": "code",
   "execution_count": null,
   "metadata": {},
   "outputs": [],
   "source": [
    "test_images = mnist_rbm.generate_images(\n",
    "    iter_gibbs=ITER_GIBBS * 5,\n",
    "    nb_images=NB_IMAGES,\n",
    "    img_size=mnist_img_size    \n",
    ")"
   ]
  },
  {
   "cell_type": "code",
   "execution_count": null,
   "metadata": {},
   "outputs": [],
   "source": [
    "# Number of rows:\n",
    "nb_rows = NB_IMAGES // nb_imgs_per_row + 1 \\\n",
    "            if NB_IMAGES % nb_imgs_per_row \\\n",
    "            else NB_IMAGES // nb_imgs_per_row\n",
    "\n",
    "# Output generated images:\n",
    "print(\"Generated images:\")\n",
    "plt.figure(figsize=(5 * nb_imgs_per_row, 5 * nb_rows))\n",
    "for i, image in enumerate(test_images, 1):\n",
    "    plt.subplot(nb_rows, nb_imgs_per_row, i)\n",
    "    plt.imshow(image)\n",
    "plt.show()"
   ]
  },
  {
   "source": [
    "## USPS"
   ],
   "cell_type": "markdown",
   "metadata": {}
  },
  {
   "cell_type": "code",
   "execution_count": null,
   "metadata": {},
   "outputs": [],
   "source": [
    "# load USPS data - handwritten digits:\n",
    "usps = scipy.io.loadmat('data/usps_all.mat')\n",
    "\n",
    "# USPS image size:\n",
    "usps_img_size = (16, 16)"
   ]
  },
  {
   "cell_type": "code",
   "execution_count": null,
   "metadata": {},
   "outputs": [],
   "source": [
    "# Character classes to learn:\n",
    "train_classes = [5]\n",
    "\n",
    "usps_dataset = np.concatenate(\n",
    "    [usps['data'][:, :, class_index].T for class_index in train_classes],\n",
    "    axis=0\n",
    ")\n",
    "\n",
    "# Binarise data:\n",
    "usps_dataset = np.where(usps_dataset > 0, 1, 0)"
   ]
  },
  {
   "cell_type": "code",
   "execution_count": null,
   "metadata": {},
   "outputs": [],
   "source": [
    "# Hyperparameters:\n",
    "HIDDEN_UNITS = 300\n",
    "LEARNING_RATE = 1E-3\n",
    "\n",
    "EPOCHS = 2000\n",
    "BATCH_SIZE = 100"
   ]
  },
  {
   "cell_type": "code",
   "execution_count": null,
   "metadata": {},
   "outputs": [],
   "source": [
    "# Create another RBM:\n",
    "usps_rbm = RBM(usps_dataset.shape[-1], HIDDEN_UNITS)\n",
    "\n",
    "# Train RBM on the USPS data:\n",
    "usps_rbm.train(\n",
    "    usps_dataset, lr=LEARNING_RATE,\n",
    "    epochs=EPOCHS, batch_size=BATCH_SIZE\n",
    ")"
   ]
  },
  {
   "cell_type": "code",
   "execution_count": null,
   "metadata": {},
   "outputs": [],
   "source": [
    "test_images = usps_rbm.generate_images(\n",
    "    iter_gibbs=ITER_GIBBS * 5,\n",
    "    nb_images=NB_IMAGES,\n",
    "    img_size=usps_img_size\n",
    ")"
   ]
  },
  {
   "cell_type": "code",
   "execution_count": null,
   "metadata": {},
   "outputs": [],
   "source": [
    "# Number of rows:\n",
    "nb_rows = NB_IMAGES // nb_imgs_per_row + 1 \\\n",
    "            if NB_IMAGES % nb_imgs_per_row \\\n",
    "            else NB_IMAGES // nb_imgs_per_row\n",
    "\n",
    "# Output generated images:\n",
    "print(\"Generated images:\")\n",
    "plt.figure(figsize=(5 * nb_imgs_per_row, 5 * nb_rows))\n",
    "for i, image in enumerate(test_images, 1):\n",
    "    plt.subplot(nb_rows, nb_imgs_per_row, i)\n",
    "    plt.imshow(image.T)\n",
    "plt.show()"
   ]
  }
 ]
}